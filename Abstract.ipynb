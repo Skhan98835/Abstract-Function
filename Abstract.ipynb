{
 "cells": [
  {
   "cell_type": "code",
   "execution_count": 9,
   "id": "829e8915-4eb7-4635-94e0-54b9bb6e3f16",
   "metadata": {},
   "outputs": [],
   "source": [
    "import abc\n",
    "class pwskills:\n",
    "    \n",
    "    @abc.abstractmethod\n",
    "    def student_details(self):\n",
    "        pass\n",
    "    @abc.abstractmethod\n",
    "    def student_assigment(self):\n",
    "        pass\n",
    "    @abc.abstractmethod\n",
    "    def student_marks(self):\n",
    "        pass"
   ]
  },
  {
   "cell_type": "code",
   "execution_count": 10,
   "id": "c22f5674-16ca-4d09-9d8a-9dac7f638415",
   "metadata": {},
   "outputs": [],
   "source": [
    "class student_details():\n",
    "    \n",
    "    def student_details(self):\n",
    "        return \"this is a meth for taking details\"\n",
    "    def student_assigment(self):\n",
    "        return \"this is a method for assing details for a particular student\""
   ]
  },
  {
   "cell_type": "code",
   "execution_count": 11,
   "id": "0ed50cb0-cb17-427b-a332-c6117d1f1e90",
   "metadata": {},
   "outputs": [],
   "source": [
    "class data_science_masters(pwskills):\n",
    "    \n",
    "    def student_details(self) :\n",
    "        return \"this will return a student details for a data science\"\n",
    "    def student_assigmentI(self):\n",
    "        return \"this will give you a student assignment detailed for data science master\""
   ]
  },
  {
   "cell_type": "code",
   "execution_count": 13,
   "id": "45a9ac19-4ddd-40cb-9c48-3444e7b75755",
   "metadata": {},
   "outputs": [
    {
     "data": {
      "text/plain": [
       "'this will return a student details for a data science'"
      ]
     },
     "execution_count": 13,
     "metadata": {},
     "output_type": "execute_result"
    }
   ],
   "source": [
    "dsm = data_science_masters()\n",
    "dsm.student_details()"
   ]
  },
  {
   "cell_type": "code",
   "execution_count": 14,
   "id": "47c98109-27c6-43a2-bd5e-20f9bb053e76",
   "metadata": {},
   "outputs": [
    {
     "data": {
      "text/plain": [
       "'this will return a student details for a data science'"
      ]
     },
     "execution_count": 14,
     "metadata": {},
     "output_type": "execute_result"
    }
   ],
   "source": [
    "sd = student_details()\n",
    "dsm.student_details()"
   ]
  },
  {
   "cell_type": "code",
   "execution_count": null,
   "id": "8ec48d52-64fe-4ad1-8a7c-25bd6fbeda2c",
   "metadata": {},
   "outputs": [],
   "source": []
  }
 ],
 "metadata": {
  "kernelspec": {
   "display_name": "Python 3 (ipykernel)",
   "language": "python",
   "name": "python3"
  },
  "language_info": {
   "codemirror_mode": {
    "name": "ipython",
    "version": 3
   },
   "file_extension": ".py",
   "mimetype": "text/x-python",
   "name": "python",
   "nbconvert_exporter": "python",
   "pygments_lexer": "ipython3",
   "version": "3.10.8"
  }
 },
 "nbformat": 4,
 "nbformat_minor": 5
}
